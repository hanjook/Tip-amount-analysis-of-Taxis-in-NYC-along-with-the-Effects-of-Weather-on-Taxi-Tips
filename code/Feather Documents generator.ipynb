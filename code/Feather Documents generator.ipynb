{
 "cells": [
  {
   "cell_type": "code",
   "execution_count": null,
   "metadata": {},
   "outputs": [],
   "source": [
    "dfy1 = pd.read_csv(\"../raw_data/large/yellow_tripdata_2019-01.csv\")\n",
    "dfy2 = pd.read_csv(\"../raw_data/large/yellow_tripdata_2019-04.csv\")\n",
    "dfy3 = pd.read_csv(\"../raw_data/large/yellow_tripdata_2019-07.csv\")\n",
    "dfy4 = pd.read_csv(\"../raw_data/large/yellow_tripdata_2019-10.csv\")\n",
    "dfy = pd.concat([dfy1,dfy2,dfy3,dfy4]).reset_index()\n",
    "dfy.reset_index().to_feather('../raw_data/large/yellow-2019.feather')"
   ]
  },
  {
   "cell_type": "code",
   "execution_count": null,
   "metadata": {},
   "outputs": [],
   "source": [
    "dfy1 = pd.read_csv(\"../raw_data/large/yellow_tripdata_2020-01.csv\")\n",
    "dfy2 = pd.read_csv(\"../raw_data/large/yellow_tripdata_2020-04.csv\")\n",
    "dfy3 = pd.read_csv(\"../raw_data/large/yellow_tripdata_2020-07.csv\")\n",
    "dfy4 = pd.read_csv(\"../raw_data/large/yellow_tripdata_2020-10.csv\")\n",
    "dfy = pd.concat([dfy1,dfy2,dfy3,dfy4]).reset_index()\n",
    "\n",
    "dfy.reset_index().to_feather('../raw_data/large/yellow-2020.feather')"
   ]
  }
 ],
 "metadata": {
  "kernelspec": {
   "display_name": "Python 3",
   "language": "python",
   "name": "python3"
  },
  "language_info": {
   "codemirror_mode": {
    "name": "ipython",
    "version": 3
   },
   "file_extension": ".py",
   "mimetype": "text/x-python",
   "name": "python",
   "nbconvert_exporter": "python",
   "pygments_lexer": "ipython3",
   "version": "3.7.6"
  }
 },
 "nbformat": 4,
 "nbformat_minor": 4
}
